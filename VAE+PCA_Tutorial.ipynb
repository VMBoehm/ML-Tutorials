{
  "nbformat": 4,
  "nbformat_minor": 0,
  "metadata": {
    "colab": {
      "name": "VAE+PCA_Tutorial.ipynb",
      "version": "0.3.2",
      "provenance": [],
      "collapsed_sections": [],
      "include_colab_link": true
    },
    "kernelspec": {
      "name": "python3",
      "display_name": "Python 3"
    },
    "accelerator": "GPU"
  },
  "cells": [
    {
      "cell_type": "markdown",
      "metadata": {
        "id": "view-in-github",
        "colab_type": "text"
      },
      "source": [
        "<a href=\"https://colab.research.google.com/github/VMBoehm/ML-Tutorials/blob/master/VAE%2BPCA_Tutorial.ipynb\" target=\"_parent\"><img src=\"https://colab.research.google.com/assets/colab-badge.svg\" alt=\"Open In Colab\"/></a>"
      ]
    },
    {
      "cell_type": "markdown",
      "metadata": {
        "id": "i_Ygj2vdMwIN",
        "colab_type": "text"
      },
      "source": [
        "# **VAE+PCA Tutorial.**\n",
        "## **Implements and compares different data compression methods (Principal Component Analysis and Variational AutoEncoder)**\n",
        "\n",
        "### **Copyright (C) 2019  Vanessa Boehm**\n",
        "\n",
        "    This program is free software: you can redistribute it and/or modify\n",
        "    it under the terms of the GNU General Public License as published by\n",
        "    the Free Software Foundation, either version 3 of the License, or\n",
        "    (at your option) any later version.\n",
        "\n",
        "    This program is distributed in the hope that it will be useful,\n",
        "    but WITHOUT ANY WARRANTY; without even the implied warranty of\n",
        "   \n",
        "    MERCHANTABILITY or FITNESS FOR A PARTICULAR PURPOSE.  See the\n",
        "    GNU General Public License for more details.\n",
        "\n",
        "    You should have received a copy of the GNU General Public License\n",
        "    along with this program.  If not, see <https://www.gnu.org/licenses/>.\n",
        "\n"
      ]
    },
    {
      "cell_type": "code",
      "metadata": {
        "id": "ApinSp7LinS1",
        "colab_type": "code",
        "outputId": "b222b36f-19e9-4f8a-c16f-78e380b194e8",
        "colab": {
          "base_uri": "https://localhost:8080/",
          "height": 35
        }
      },
      "source": [
        "# comment out if you are not running this on google colab\n",
        "from google.colab import drive\n",
        "\n",
        "ROOT = \"/content/gdrive\"\n",
        "\n",
        "drive.mount(ROOT, force_remount=True)"
      ],
      "execution_count": 53,
      "outputs": [
        {
          "output_type": "stream",
          "text": [
            "Mounted at /content/gdrive\n"
          ],
          "name": "stdout"
        }
      ]
    },
    {
      "cell_type": "code",
      "metadata": {
        "id": "D-Fe5G8m1FTC",
        "colab_type": "code",
        "outputId": "83df8c0f-b48a-47d4-e685-327d3563744b",
        "colab": {
          "base_uri": "https://localhost:8080/",
          "height": 88
        }
      },
      "source": [
        "%pylab inline\n",
        "import pickle as pkl\n",
        "import numpy as np\n",
        "import os"
      ],
      "execution_count": 54,
      "outputs": [
        {
          "output_type": "stream",
          "text": [
            "Populating the interactive namespace from numpy and matplotlib\n"
          ],
          "name": "stdout"
        },
        {
          "output_type": "stream",
          "text": [
            "/usr/local/lib/python3.6/dist-packages/IPython/core/magics/pylab.py:161: UserWarning: pylab import has clobbered these variables: ['cov', 'indices']\n",
            "`%matplotlib` prevents importing * from pylab and numpy\n",
            "  \"\\n`%matplotlib` prevents importing * from pylab and numpy\"\n"
          ],
          "name": "stderr"
        }
      ]
    },
    {
      "cell_type": "markdown",
      "metadata": {
        "id": "LaiyKKhbtkjY",
        "colab_type": "text"
      },
      "source": [
        "### Let's first download the mnist dataset (http://yann.lecun.com/exdb/mnist/) and inspect it a little"
      ]
    },
    {
      "cell_type": "code",
      "metadata": {
        "id": "nFzYYSxY1FTL",
        "colab_type": "code",
        "colab": {}
      },
      "source": [
        "import gzip, zipfile, tarfile\n",
        "import os, shutil, re, string, urllib, fnmatch\n",
        "\n",
        "def _download_mnist(dataset):\n",
        "    \"\"\"\n",
        "    download mnist dataset if not present\n",
        "    \"\"\"\n",
        "    origin = ('http://www.iro.umontreal.ca/~lisa/deep/data/mnist/mnist.pkl.gz')\n",
        "    print('Downloading data from %s' %origin)\n",
        "    urllib.request.urlretrieve(origin, dataset)\n",
        "\n",
        "def _get_datafolder_path():\n",
        "    \"\"\"\n",
        "    returns data path\n",
        "    \"\"\"\n",
        "    #where am I? return full path\n",
        "    full_path = os.path.abspath('./')\n",
        "    path = full_path +'/data'\n",
        "    return path\n",
        "\n",
        "\n",
        "def load_mnist():\n",
        "    \"\"\"\n",
        "    load mnist dataset\n",
        "    \"\"\"\n",
        "\n",
        "    dataset=_get_datafolder_path()+'/mnist/mnist.pkl.gz'\n",
        "\n",
        "    if not os.path.isfile(dataset):\n",
        "        datasetfolder = os.path.dirname(dataset)\n",
        "        if not os.path.exists(datasetfolder):\n",
        "            print('creating ', datasetfolder)\n",
        "            os.makedirs(datasetfolder)\n",
        "        _download_mnist(dataset)\n",
        "\n",
        "    f = gzip.open(dataset, 'rb')\n",
        "    train_set, valid_set, test_set = pkl.load(f, encoding='latin1')\n",
        "    f.close()\n",
        "    x_train, targets_train = train_set[0], train_set[1]\n",
        "    x_valid, targets_valid = valid_set[0], valid_set[1]\n",
        "    x_test, targets_test = test_set[0], test_set[1]\n",
        "    #omitting validation set \n",
        "    return x_train, targets_train, x_test, targets_test"
      ],
      "execution_count": 0,
      "outputs": []
    },
    {
      "cell_type": "code",
      "metadata": {
        "id": "Qa4ksE9hXuuO",
        "colab_type": "code",
        "colab": {
          "base_uri": "https://localhost:8080/",
          "height": 231
        },
        "outputId": "9abfbe90-7023-4b39-dc73-e778de2397f1"
      },
      "source": [
        "x_train, targets_train, x_test, targets_test  = load_mnist()\n",
        "\n",
        "print('size of training and test datasets', x_train.shape[0], x_test.shape[0])\n",
        "print('number of examples per label:')\n",
        "for ii in range(10):\n",
        "  print('label %d:'%ii, len(np.where(targets_train==ii)[0]))"
      ],
      "execution_count": 50,
      "outputs": [
        {
          "output_type": "stream",
          "text": [
            "size of training and test datasets 50000 10000\n",
            "number of examples per label:\n",
            "label 0: 4932\n",
            "label 1: 5678\n",
            "label 2: 4968\n",
            "label 3: 5101\n",
            "label 4: 4859\n",
            "label 5: 4506\n",
            "label 6: 4951\n",
            "label 7: 5175\n",
            "label 8: 4842\n",
            "label 9: 4988\n"
          ],
          "name": "stdout"
        }
      ]
    },
    {
      "cell_type": "code",
      "metadata": {
        "id": "AJEVvyYPukHI",
        "colab_type": "code",
        "colab": {
          "base_uri": "https://localhost:8080/",
          "height": 323
        },
        "outputId": "ee2a01b7-b834-483e-a63f-985f521c492b"
      },
      "source": [
        "figure(figsize=(5,5))\n",
        "for ii in range(16):\n",
        "  subplot(4,4,ii+1)\n",
        "  imshow(x_train[ii].reshape(28,28),cmap='gray')\n",
        "  axis('off')"
      ],
      "execution_count": 51,
      "outputs": [
        {
          "output_type": "display_data",
          "data": {
            "image/png": "[encoded data removed]",
            "text/plain": [
              "<Figure size 360x360 with 16 Axes>"
            ]
          },
          "metadata": {
            "tags": []
          }
        }
      ]
    },
    {
      "cell_type": "markdown",
      "metadata": {
        "id": "nk4v4dGYxLrq",
        "colab_type": "text"
      },
      "source": [
        "### Next step is a 'traditional' principal component analysis for dimenensionality reduction"
      ]
    },
    {
      "cell_type": "code",
      "metadata": {
        "id": "4BnYA0_kVf2Z",
        "colab_type": "code",
        "outputId": "6b700797-985c-4f42-b4e5-1462c49a028b",
        "colab": {
          "base_uri": "https://localhost:8080/",
          "height": 269
        }
      },
      "source": [
        "# compute the data covariance by class and decompose \n",
        "from sklearn.covariance import EmpiricalCovariance #more memory efficient than by hand...\n",
        "\n",
        "ws    = np.zeros((10,28*28))\n",
        "vs    = np.zeros((10,28*28,28*28))\n",
        "means = np.zeros((10,28*28))\n",
        "\n",
        "figure()\n",
        "for ii in range(10):\n",
        "  \n",
        "  # compute covariance \n",
        "  indices       = np.where(targets_train==ii)\n",
        "  x             = x_train[indices]\n",
        "  cov           = EmpiricalCovariance(assume_centered=False).fit(x).covariance_\n",
        "  mean          = np.mean(x,axis=0)\n",
        "  #decompose\n",
        "  w,v           = np.linalg.eigh(cov)\n",
        "  \n",
        "  #order by size and store\n",
        "  indices       = np.argsort(w)[::-1]\n",
        "  w             = w[indices]\n",
        "  ws[ii] = w\n",
        "  vs[ii] = v.T[indices]\n",
        "  means[ii] = mean\n",
        "\n",
        "  #plot\n",
        "  semilogy(np.arange(len(w)),w, ls='', marker='+', label='class %d'%ii)\n",
        "legend()\n",
        "show()"
      ],
      "execution_count": 68,
      "outputs": [
        {
          "output_type": "display_data",
          "data": {
            "image/png": "[encoded data removed]",
            "text/plain": [
              "<Figure size 432x288 with 1 Axes>"
            ]
          },
          "metadata": {
            "tags": []
          }
        }
      ]
    },
    {
      "cell_type": "code",
      "metadata": {
        "id": "fJIMJv_vBxdd",
        "colab_type": "code",
        "colab": {
          "base_uri": "https://localhost:8080/",
          "height": 269
        },
        "outputId": "1e2cabf1-023c-4cd1-e448-ccabb3920fa6"
      },
      "source": [
        "# and on the full data set\n",
        "  \n",
        "# compute covariance \n",
        "\n",
        "x             = x_train\n",
        "cov           = EmpiricalCovariance(assume_centered=False).fit(x).covariance_\n",
        "mean          = np.mean(x_train,axis=0)\n",
        "#decompose\n",
        "w,v           = np.linalg.eigh(cov)\n",
        "\n",
        "#order by size and store\n",
        "indices       = np.argsort(w)[::-1]\n",
        "w             = w[indices]\n",
        "v             = v.T[indices]\n",
        "\n",
        "#plot\n",
        "semilogy(np.arange(len(w)),w, ls='', marker='+', label='full data set')\n",
        "legend()\n",
        "show()"
      ],
      "execution_count": 69,
      "outputs": [
        {
          "output_type": "display_data",
          "data": {
            "image/png": "[encoded data removed]",
            "text/plain": [
              "<Figure size 432x288 with 1 Axes>"
            ]
          },
          "metadata": {
            "tags": []
          }
        }
      ]
    },
    {
      "cell_type": "markdown",
      "metadata": {
        "id": "nt21M3bn1v6z",
        "colab_type": "text"
      },
      "source": [
        "#### compress and reconstruct some data\n",
        "\n"
      ]
    },
    {
      "cell_type": "code",
      "metadata": {
        "id": "JNGlBRXMsbLA",
        "colab_type": "code",
        "outputId": "11310585-b1ff-4c43-ff14-57052a7a2f74",
        "colab": {
          "base_uri": "https://localhost:8080/",
          "height": 234
        }
      },
      "source": [
        "# which digit to look at\n",
        "label      = 4\n",
        "# dimensionality of compressed space\n",
        "latent_dim = 2\n",
        "\n",
        "# restrict compression operator to desired dimensionality\n",
        "R = vs[label][:latent_dim]\n",
        "m = means[ii]\n",
        "\n",
        "# restrict test data to label\n",
        "x = x_test[np.where(targets_test==label)][0]\n",
        "\n",
        "#compression\n",
        "s = np.dot(R,x-m)\n",
        "\n",
        "#decompression\n",
        "x_hat = np.dot(R.T,s)+m\n",
        "\n",
        "figure()\n",
        "subplot(1,2,1)\n",
        "title('orig')\n",
        "imshow(x.reshape(28,28),cmap='gray')\n",
        "axis('off')\n",
        "subplot(1,2,2)\n",
        "title('recon')\n",
        "imshow(x_hat.reshape(28,28), cmap='gray')\n",
        "axis('off')\n",
        "show()\n",
        "\n",
        "print('rms-difference:', np.sqrt(np.mean((x_hat-x)**2)))"
      ],
      "execution_count": 70,
      "outputs": [
        {
          "output_type": "display_data",
          "data": {
            "image/png": "[encoded data removed]",
            "text/plain": [
              "<Figure size 432x288 with 2 Axes>"
            ]
          },
          "metadata": {
            "tags": []
          }
        },
        {
          "output_type": "stream",
          "text": [
            "rms-difference: 0.1907281883676805\n"
          ],
          "name": "stdout"
        }
      ]
    },
    {
      "cell_type": "code",
      "metadata": {
        "id": "-gvYSItVCFfD",
        "colab_type": "code",
        "colab": {
          "base_uri": "https://localhost:8080/",
          "height": 234
        },
        "outputId": "b2b49a3e-57fc-42ef-eb58-68fddaa44fb3"
      },
      "source": [
        "# same thing with PCA 'trained' on entire dataset\n",
        "R = v[:latent_dim]\n",
        "\n",
        "# restrict test data to label\n",
        "x = x_test[np.where(targets_test==label)][0]\n",
        "m - mean\n",
        "\n",
        "#compression\n",
        "s = np.dot(R,x-m)\n",
        "\n",
        "#decompression\n",
        "x_hat = np.dot(R.T,s)+m\n",
        "\n",
        "figure()\n",
        "subplot(1,2,1)\n",
        "title('orig')\n",
        "imshow(x.reshape(28,28),cmap='gray')\n",
        "axis('off')\n",
        "subplot(1,2,2)\n",
        "title('recon')\n",
        "imshow(x_hat.reshape(28,28), cmap='gray')\n",
        "axis('off')\n",
        "show()\n",
        "\n",
        "print('rms-difference:', np.sqrt(np.mean((x_hat-x)**2)))"
      ],
      "execution_count": 71,
      "outputs": [
        {
          "output_type": "display_data",
          "data": {
            "image/png": "[encoded data removed]",
            "text/plain": [
              "<Figure size 432x288 with 2 Axes>"
            ]
          },
          "metadata": {
            "tags": []
          }
        },
        {
          "output_type": "stream",
          "text": [
            "rms-difference: 0.23725857062288647\n"
          ],
          "name": "stdout"
        }
      ]
    },
    {
      "cell_type": "markdown",
      "metadata": {
        "id": "GJuGO8B9BHvj",
        "colab_type": "text"
      },
      "source": [
        "**Now, let's turn to non-linear PCA aka a VAE**"
      ]
    },
    {
      "cell_type": "code",
      "metadata": {
        "id": "p37su1P15I3Y",
        "colab_type": "code",
        "colab": {}
      },
      "source": [
        "# pretrained VAE (training from scratch would take too long)\n",
        "decoder_path   = './gdrive/My Drive/MPM/modules/gauss3b/gauss3b-final/decoder'\n",
        "encoder_path   = './gdrive/My Drive/MPM/modules/gauss3b/gauss3b-final/encoder'"
      ],
      "execution_count": 0,
      "outputs": []
    },
    {
      "cell_type": "code",
      "metadata": {
        "id": "MXWOKPQ2DorL",
        "colab_type": "code",
        "colab": {}
      },
      "source": [
        "#import tensorflow modules\n",
        "import tensorflow as tf\n",
        "import tensorflow_probability as tfp\n",
        "import tensorflow_hub as hub\n",
        "tfd = tfp.distributions"
      ],
      "execution_count": 0,
      "outputs": []
    },
    {
      "cell_type": "code",
      "metadata": {
        "id": "Q0KsDXO8E8Tv",
        "colab_type": "code",
        "colab": {}
      },
      "source": [
        "latent_dim = 8\n",
        "data_size  = 1\n",
        "data_dim   = 28*28\n",
        "n_channels = 1\n",
        "label      = 4"
      ],
      "execution_count": 0,
      "outputs": []
    },
    {
      "cell_type": "code",
      "metadata": {
        "id": "in-JgcSTEZqf",
        "colab_type": "code",
        "colab": {}
      },
      "source": [
        "# these are the two functions that were used in the loss function (ELBO) to train the encoder and decoder\n",
        "\n",
        "def likelihood(z,sigma, encoder):\n",
        "  mean = decoder(z)#decoder({'z':z},as_dict=True)['x']\n",
        "  return tfd.Independent(tfd.MultivariateNormalDiag(loc=mean,scale_identity_multiplier=sigma))\n",
        "\n",
        "def approx_posterior(x,decoder):\n",
        "  mu, sig          = tf.split(encoder(x), 2, axis=-1)#tf.split(encoder({'x':x},as_dict=True)['z'], 2, axis=-1)\n",
        "  sig              = tf.nn.softplus(sig) + 0.0001\n",
        "  approx_posterior = tfd.MultivariateNormalDiag(loc=mu, scale_diag=sig)\n",
        "  return approx_posterior"
      ],
      "execution_count": 0,
      "outputs": []
    },
    {
      "cell_type": "code",
      "metadata": {
        "id": "wZj2mAJ4GJPz",
        "colab_type": "code",
        "colab": {}
      },
      "source": [
        "# (build) the model\n",
        "tf.reset_default_graph()\n",
        "\n",
        "decoder = hub.Module(decoder_path, trainable=False)\n",
        "encoder = hub.Module(encoder_path, trainable=False)\n",
        "\n",
        "sigma = tf.placeholder_with_default(0.05,shape=[])\n",
        "\n",
        "x     = tf.placeholder(shape=[data_size,data_dim,n_channels], dtype=tf.float32)\n",
        "\n",
        "x_    = tf.reshape(x,(data_size,28,28,n_channels))\n",
        "s     = approx_posterior(x_,encoder).mean()\n",
        "\n",
        "x_hat = likelihood(s,sigma,decoder).mean()\n",
        "\n"
      ],
      "execution_count": 0,
      "outputs": []
    },
    {
      "cell_type": "code",
      "metadata": {
        "id": "0tXFS6rBGuz4",
        "colab_type": "code",
        "colab": {}
      },
      "source": [
        "# initialize and run the model\n",
        "sess = tf.Session()\n",
        "sess.run(tf.global_variables_initializer())\n",
        "\n",
        "# restrict test data to label\n",
        "input_data = x_test[np.where(targets_test==label)][0].reshape((data_size,data_dim,n_channels))\n",
        "\n",
        "recon_data = sess.run(x_hat, feed_dict={x:input_data})"
      ],
      "execution_count": 0,
      "outputs": []
    },
    {
      "cell_type": "code",
      "metadata": {
        "id": "M2J86XabIoWV",
        "colab_type": "code",
        "colab": {
          "base_uri": "https://localhost:8080/",
          "height": 234
        },
        "outputId": "c43194af-b70c-488f-ca92-f6659c76651f"
      },
      "source": [
        "#Let's have a look at the reconstructions\n",
        "figure()\n",
        "subplot(1,2,1)\n",
        "title('orig')\n",
        "imshow(input_data.reshape(28,28),cmap='gray')\n",
        "axis('off')\n",
        "subplot(1,2,2)\n",
        "title('recon')\n",
        "imshow(recon_data.reshape(28,28), cmap='gray')\n",
        "axis('off')\n",
        "show()\n",
        "\n",
        "\n",
        "print('rms-difference:', np.sqrt(np.mean((recon_data.flatten()-input_data)**2)))"
      ],
      "execution_count": 75,
      "outputs": [
        {
          "output_type": "display_data",
          "data": {
            "image/png": "[encoded data removed]",
            "text/plain": [
              "<Figure size 432x288 with 2 Axes>"
            ]
          },
          "metadata": {
            "tags": []
          }
        },
        {
          "output_type": "stream",
          "text": [
            "rms-difference: 0.3588921\n"
          ],
          "name": "stdout"
        }
      ]
    },
    {
      "cell_type": "code",
      "metadata": {
        "id": "OSBD0LWAJRix",
        "colab_type": "code",
        "colab": {
          "base_uri": "https://localhost:8080/",
          "height": 35
        },
        "outputId": "aefe1bda-c212-48b1-f22f-834f6c7e101d"
      },
      "source": [
        ""
      ],
      "execution_count": 34,
      "outputs": [
        {
          "output_type": "execute_result",
          "data": {
            "text/plain": [
              "((1, 784, 1), (1, 28, 28, 1))"
            ]
          },
          "metadata": {
            "tags": []
          },
          "execution_count": 34
        }
      ]
    },
    {
      "cell_type": "code",
      "metadata": {
        "id": "RElV5fdxK3SY",
        "colab_type": "code",
        "colab": {}
      },
      "source": [
        ""
      ],
      "execution_count": 0,
      "outputs": []
    }
  ]
}