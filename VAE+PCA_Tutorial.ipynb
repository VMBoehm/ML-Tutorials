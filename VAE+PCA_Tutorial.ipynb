{
  "nbformat": 4,
  "nbformat_minor": 0,
  "metadata": {
    "colab": {
      "name": "VAE+PCA_Tutorial.ipynb",
      "version": "0.3.2",
      "provenance": [],
      "collapsed_sections": [],
      "include_colab_link": true
    },
    "kernelspec": {
      "name": "python3",
      "display_name": "Python 3"
    },
    "accelerator": "GPU"
  },
  "cells": [
    {
      "cell_type": "markdown",
      "metadata": {
        "id": "view-in-github",
        "colab_type": "text"
      },
      "source": [
        "<a href=\"https://colab.research.google.com/github/VMBoehm/ML-Tutorials/blob/master/VAE%2BPCA_Tutorial.ipynb\" target=\"_parent\"><img src=\"https://colab.research.google.com/assets/colab-badge.svg\" alt=\"Open In Colab\"/></a>"
      ]
    },
    {
      "cell_type": "markdown",
      "metadata": {
        "id": "i_Ygj2vdMwIN",
        "colab_type": "text"
      },
      "source": [
        "# **VAE+PCA Tutorial.**\n",
        "## **Implements and compares different data compression methods (Principal Component Analysis and Variational AutoEncoder)**\n",
        "\n",
        "### **Copyright (C) 2019  Vanessa Boehm**\n",
        "\n",
        "    This program is free software: you can redistribute it and/or modify\n",
        "    it under the terms of the GNU General Public License as published by\n",
        "    the Free Software Foundation, either version 3 of the License, or\n",
        "    (at your option) any later version.\n",
        "\n",
        "    This program is distributed in the hope that it will be useful,\n",
        "    but WITHOUT ANY WARRANTY; without even the implied warranty of\n",
        "   \n",
        "    MERCHANTABILITY or FITNESS FOR A PARTICULAR PURPOSE.  See the\n",
        "    GNU General Public License for more details.\n",
        "\n",
        "    You should have received a copy of the GNU General Public License\n",
        "    along with this program.  If not, see <https://www.gnu.org/licenses/>.\n",
        "\n"
      ]
    },
    {
      "cell_type": "code",
      "metadata": {
        "id": "ApinSp7LinS1",
        "colab_type": "code",
        "outputId": "7bab4175-e4fa-4d96-a611-ed8519c1919f",
        "colab": {
          "base_uri": "https://localhost:8080/",
          "height": 126
        }
      },
      "source": [
        "# comment out if you are not running this on google colab\n",
        "from google.colab import drive\n",
        "\n",
        "ROOT = \"/content/gdrive\"\n",
        "\n",
        "drive.mount(ROOT, force_remount=True)"
      ],
      "execution_count": 5,
      "outputs": [
        {
          "output_type": "stream",
          "text": [
            "Go to this URL in a browser: https://accounts.google.com/o/oauth2/auth?client_id=947318989803-6bn6qk8qdgf4n4g3pfee6491hc0brc4i.apps.googleusercontent.com&redirect_uri=urn%3Aietf%3Awg%3Aoauth%3A2.0%3Aoob&scope=email%20https%3A%2F%2Fwww.googleapis.com%2Fauth%2Fdocs.test%20https%3A%2F%2Fwww.googleapis.com%2Fauth%2Fdrive%20https%3A%2F%2Fwww.googleapis.com%2Fauth%2Fdrive.photos.readonly%20https%3A%2F%2Fwww.googleapis.com%2Fauth%2Fpeopleapi.readonly&response_type=code\n",
            "\n",
            "Enter your authorization code:\n",
            "··········\n",
            "Mounted at /content/gdrive\n"
          ],
          "name": "stdout"
        }
      ]
    },
    {
      "cell_type": "code",
      "metadata": {
        "id": "D-Fe5G8m1FTC",
        "colab_type": "code",
        "outputId": "bdffdf07-3405-45f9-cc49-1931bf7a3bfc",
        "colab": {
          "base_uri": "https://localhost:8080/",
          "height": 35
        }
      },
      "source": [
        "%pylab inline\n",
        "import pickle as pkl\n",
        "import numpy as np\n",
        "import os"
      ],
      "execution_count": 6,
      "outputs": [
        {
          "output_type": "stream",
          "text": [
            "Populating the interactive namespace from numpy and matplotlib\n"
          ],
          "name": "stdout"
        }
      ]
    },
    {
      "cell_type": "markdown",
      "metadata": {
        "id": "LaiyKKhbtkjY",
        "colab_type": "text"
      },
      "source": [
        "### Let's first download the mnist dataset (http://yann.lecun.com/exdb/mnist/) and inspect it a little"
      ]
    },
    {
      "cell_type": "code",
      "metadata": {
        "id": "nFzYYSxY1FTL",
        "colab_type": "code",
        "colab": {}
      },
      "source": [
        "import gzip, zipfile, tarfile\n",
        "import os, shutil, re, string, urllib, fnmatch\n",
        "\n",
        "def _download_mnist(dataset):\n",
        "    \"\"\"\n",
        "    download mnist dataset if not present\n",
        "    \"\"\"\n",
        "    origin = ('http://www.iro.umontreal.ca/~lisa/deep/data/mnist/mnist.pkl.gz')\n",
        "    print('Downloading data from %s' %origin)\n",
        "    urllib.request.urlretrieve(origin, dataset)\n",
        "\n",
        "def _get_datafolder_path():\n",
        "    \"\"\"\n",
        "    returns data path\n",
        "    \"\"\"\n",
        "    #where am I? return full path\n",
        "    full_path = os.path.abspath('./')\n",
        "    path = full_path +'/data'\n",
        "    return path\n",
        "\n",
        "\n",
        "def load_mnist():\n",
        "    \"\"\"\n",
        "    load mnist dataset\n",
        "    \"\"\"\n",
        "\n",
        "    dataset=_get_datafolder_path()+'/mnist/mnist.pkl.gz'\n",
        "\n",
        "    if not os.path.isfile(dataset):\n",
        "        datasetfolder = os.path.dirname(dataset)\n",
        "        if not os.path.exists(datasetfolder):\n",
        "            print('creating ', datasetfolder)\n",
        "            os.makedirs(datasetfolder)\n",
        "        _download_mnist(dataset)\n",
        "\n",
        "    f = gzip.open(dataset, 'rb')\n",
        "    train_set, valid_set, test_set = pkl.load(f, encoding='latin1')\n",
        "    f.close()\n",
        "    x_train, targets_train = train_set[0], train_set[1]\n",
        "    x_valid, targets_valid = valid_set[0], valid_set[1]\n",
        "    x_test, targets_test = test_set[0], test_set[1]\n",
        "    #omitting validation set \n",
        "    return x_train, targets_train, x_test, targets_test"
      ],
      "execution_count": 0,
      "outputs": []
    },
    {
      "cell_type": "code",
      "metadata": {
        "id": "Qa4ksE9hXuuO",
        "colab_type": "code",
        "outputId": "c4a30a94-eca5-4809-b5c0-9165f6c3a3ba",
        "colab": {
          "base_uri": "https://localhost:8080/",
          "height": 267
        }
      },
      "source": [
        "x_train, targets_train, x_test, targets_test  = load_mnist()\n",
        "\n",
        "print('size of training and test datasets', x_train.shape[0], x_test.shape[0])\n",
        "print('number of examples per label:')\n",
        "for ii in range(10):\n",
        "  print('label %d:'%ii, len(np.where(targets_train==ii)[0]))"
      ],
      "execution_count": 8,
      "outputs": [
        {
          "output_type": "stream",
          "text": [
            "creating  /content/data/mnist\n",
            "Downloading data from http://www.iro.umontreal.ca/~lisa/deep/data/mnist/mnist.pkl.gz\n",
            "size of training and test datasets 50000 10000\n",
            "number of examples per label:\n",
            "label 0: 4932\n",
            "label 1: 5678\n",
            "label 2: 4968\n",
            "label 3: 5101\n",
            "label 4: 4859\n",
            "label 5: 4506\n",
            "label 6: 4951\n",
            "label 7: 5175\n",
            "label 8: 4842\n",
            "label 9: 4988\n"
          ],
          "name": "stdout"
        }
      ]
    },
    {
      "cell_type": "code",
      "metadata": {
        "id": "AJEVvyYPukHI",
        "colab_type": "code",
        "outputId": "2a4e078f-63c8-444d-eff0-d14a81e54cd9",
        "colab": {
          "base_uri": "https://localhost:8080/",
          "height": 323
        }
      },
      "source": [
        "figure(figsize=(5,5))\n",
        "for ii in range(16):\n",
        "  subplot(4,4,ii+1)\n",
        "  imshow(x_train[ii].reshape(28,28),cmap='gray')\n",
        "  axis('off')"
      ],
      "execution_count": 0,
      "outputs": [
        {
          "output_type": "display_data",
          "data": {
            "image/png": "[encoded data removed]",
            "text/plain": [
              "<Figure size 360x360 with 16 Axes>"
            ]
          },
          "metadata": {
            "tags": []
          }
        }
      ]
    },
    {
      "cell_type": "markdown",
      "metadata": {
        "id": "nk4v4dGYxLrq",
        "colab_type": "text"
      },
      "source": [
        "### Next step is a 'traditional' principal component analysis for dimenensionality reduction"
      ]
    },
    {
      "cell_type": "code",
      "metadata": {
        "id": "4BnYA0_kVf2Z",
        "colab_type": "code",
        "outputId": "b33a94bc-1057-485a-d308-4567819987a9",
        "colab": {
          "base_uri": "https://localhost:8080/",
          "height": 269
        }
      },
      "source": [
        "# compute the data covariance by class and decompose \n",
        "from sklearn.covariance import EmpiricalCovariance #more memory efficient than by hand...\n",
        "\n",
        "ws    = np.zeros((10,28*28))\n",
        "vs    = np.zeros((10,28*28,28*28))\n",
        "means = np.zeros((10,28*28))\n",
        "\n",
        "figure()\n",
        "for ii in range(10):\n",
        "  \n",
        "  # compute covariance \n",
        "  indices       = np.where(targets_train==ii)\n",
        "  x             = x_train[indices]\n",
        "  cov           = EmpiricalCovariance(assume_centered=False).fit(x).covariance_\n",
        "  mean          = np.mean(x,axis=0)\n",
        "  #decompose\n",
        "  w,v           = np.linalg.eigh(cov)\n",
        "  \n",
        "  #order by size and store\n",
        "  indices       = np.argsort(w)[::-1]\n",
        "  w             = w[indices]\n",
        "  ws[ii] = w\n",
        "  vs[ii] = v.T[indices]\n",
        "  means[ii] = mean\n",
        "\n",
        "  #plot\n",
        "  semilogy(np.arange(len(w)),w, ls='', marker='+', label='class %d'%ii)\n",
        "legend()\n",
        "show()"
      ],
      "execution_count": 12,
      "outputs": [
        {
          "output_type": "display_data",
          "data": {
            "image/png": "[encoded data removed]",
            "text/plain": [
              "<Figure size 432x288 with 1 Axes>"
            ]
          },
          "metadata": {
            "tags": []
          }
        }
      ]
    },
    {
      "cell_type": "code",
      "metadata": {
        "id": "fJIMJv_vBxdd",
        "colab_type": "code",
        "outputId": "1f3e8c51-3483-49d2-c307-278303944d48",
        "colab": {
          "base_uri": "https://localhost:8080/",
          "height": 269
        }
      },
      "source": [
        "# and on the full data set\n",
        "  \n",
        "# compute covariance \n",
        "\n",
        "x             = x_train\n",
        "cov           = EmpiricalCovariance(assume_centered=False).fit(x).covariance_\n",
        "mean          = np.mean(x_train,axis=0)\n",
        "#decompose\n",
        "w,v           = np.linalg.eigh(cov)\n",
        "\n",
        "#order by size and store\n",
        "indices       = np.argsort(w)[::-1]\n",
        "w             = w[indices]\n",
        "v             = v.T[indices]\n",
        "\n",
        "#plot\n",
        "semilogy(np.arange(len(w)),w, ls='', marker='+', label='full data set')\n",
        "legend()\n",
        "show()"
      ],
      "execution_count": 13,
      "outputs": [
        {
          "output_type": "display_data",
          "data": {
            "image/png": "[encoded data removed]",
            "text/plain": [
              "<Figure size 432x288 with 1 Axes>"
            ]
          },
          "metadata": {
            "tags": []
          }
        }
      ]
    },
    {
      "cell_type": "markdown",
      "metadata": {
        "id": "nt21M3bn1v6z",
        "colab_type": "text"
      },
      "source": [
        "#### compress and reconstruct some data\n",
        "\n"
      ]
    },
    {
      "cell_type": "code",
      "metadata": {
        "id": "JNGlBRXMsbLA",
        "colab_type": "code",
        "outputId": "ad09911b-0ef9-4a7d-eff9-49173d2ebf12",
        "colab": {
          "base_uri": "https://localhost:8080/",
          "height": 234
        }
      },
      "source": [
        "# which digit to look at\n",
        "label      = 4\n",
        "# dimensionality of compressed space\n",
        "latent_dim = 2\n",
        "\n",
        "# restrict compression operator to desired dimensionality\n",
        "R = vs[label][:latent_dim]\n",
        "m = means[ii]\n",
        "\n",
        "# restrict test data to label\n",
        "x = x_test[np.where(targets_test==label)][0]\n",
        "\n",
        "#compression\n",
        "s = np.dot(R,x-m)\n",
        "\n",
        "#decompression\n",
        "x_hat = np.dot(R.T,s)+m\n",
        "\n",
        "figure()\n",
        "subplot(1,2,1)\n",
        "title('orig')\n",
        "imshow(x.reshape(28,28),cmap='gray')\n",
        "axis('off')\n",
        "subplot(1,2,2)\n",
        "title('recon')\n",
        "imshow(x_hat.reshape(28,28), cmap='gray')\n",
        "axis('off')\n",
        "show()\n",
        "\n",
        "print('rms-difference:', np.sqrt(np.mean((x_hat-x)**2)))"
      ],
      "execution_count": 14,
      "outputs": [
        {
          "output_type": "display_data",
          "data": {
            "image/png": "[encoded data removed]",
            "text/plain": [
              "<Figure size 432x288 with 2 Axes>"
            ]
          },
          "metadata": {
            "tags": []
          }
        },
        {
          "output_type": "stream",
          "text": [
            "rms-difference: 0.1907281883676805\n"
          ],
          "name": "stdout"
        }
      ]
    },
    {
      "cell_type": "code",
      "metadata": {
        "id": "-gvYSItVCFfD",
        "colab_type": "code",
        "outputId": "485d23d0-3d62-430a-a808-ca1722e1b40c",
        "colab": {
          "base_uri": "https://localhost:8080/",
          "height": 234
        }
      },
      "source": [
        "# same thing with PCA 'trained' on entire dataset\n",
        "R = v[:latent_dim]\n",
        "\n",
        "# restrict test data to label\n",
        "x = x_test[np.where(targets_test==label)][0]\n",
        "m - mean\n",
        "\n",
        "#compression\n",
        "s = np.dot(R,x-m)\n",
        "\n",
        "#decompression\n",
        "x_hat = np.dot(R.T,s)+m\n",
        "\n",
        "figure()\n",
        "subplot(1,2,1)\n",
        "title('orig')\n",
        "imshow(x.reshape(28,28),cmap='gray')\n",
        "axis('off')\n",
        "subplot(1,2,2)\n",
        "title('recon')\n",
        "imshow(x_hat.reshape(28,28), cmap='gray')\n",
        "axis('off')\n",
        "show()\n",
        "\n",
        "print('rms-difference:', np.sqrt(np.mean((x_hat-x)**2)))"
      ],
      "execution_count": 15,
      "outputs": [
        {
          "output_type": "display_data",
          "data": {
            "image/png": "[encoded data removed]",
            "text/plain": [
              "<Figure size 432x288 with 2 Axes>"
            ]
          },
          "metadata": {
            "tags": []
          }
        },
        {
          "output_type": "stream",
          "text": [
            "rms-difference: 0.23725857062288647\n"
          ],
          "name": "stdout"
        }
      ]
    },
    {
      "cell_type": "code",
      "metadata": {
        "id": "6nS_EDf-ZrLR",
        "colab_type": "code",
        "colab": {
          "base_uri": "https://localhost:8080/",
          "height": 252
        },
        "outputId": "d8d9a2d1-bd9f-468f-9c4d-03f97090b5ac"
      },
      "source": [
        "# we could have lso used scikit learn PCA directly... difference is numerically\n",
        "from sklearn.decomposition import PCA\n",
        "pca = PCA(n_components=2)\n",
        "pca.fit(x_train)\n",
        "print(x.shape, x_train.shape)\n",
        "s = pca.transform(np.reshape(x,(1,-1)))\n",
        "x_hat = pca.inverse_transform(s)\n",
        "\n",
        "figure()\n",
        "subplot(1,2,1)\n",
        "title('orig')\n",
        "imshow(x.reshape(28,28),cmap='gray')\n",
        "axis('off')\n",
        "subplot(1,2,2)\n",
        "title('recon')\n",
        "imshow(x_hat.reshape(28,28), cmap='gray')\n",
        "axis('off')\n",
        "show()\n",
        "\n",
        "print('rms-difference:', np.sqrt(np.mean((x_hat-x)**2)))"
      ],
      "execution_count": 25,
      "outputs": [
        {
          "output_type": "stream",
          "text": [
            "(784,) (50000, 784)\n"
          ],
          "name": "stdout"
        },
        {
          "output_type": "display_data",
          "data": {
            "image/png": "[encoded data removed]",
            "text/plain": [
              "<Figure size 432x288 with 2 Axes>"
            ]
          },
          "metadata": {
            "tags": []
          }
        },
        {
          "output_type": "stream",
          "text": [
            "rms-difference: 0.22106984\n"
          ],
          "name": "stdout"
        }
      ]
    },
    {
      "cell_type": "markdown",
      "metadata": {
        "id": "GJuGO8B9BHvj",
        "colab_type": "text"
      },
      "source": [
        "**Now, let's turn to non-linear PCA aka a VAE**"
      ]
    },
    {
      "cell_type": "code",
      "metadata": {
        "id": "p37su1P15I3Y",
        "colab_type": "code",
        "outputId": "e0f3bd01-eecb-49a4-8d77-71b5f4b4dbd7",
        "colab": {
          "base_uri": "https://localhost:8080/",
          "height": 35
        }
      },
      "source": [
        "# pretrained VAE (training from scratch would take too long)\n",
        "# change path; link the modules that you have downloaded from https://drive.google.com/drive/folders/1EIJ7j4qCiLCkpw8yYw4Dxj07g0coBJwT?usp=sharing\n",
        "decoder_path   = './gdrive/My Drive/myVAE/modules/mnist/Bernoulli/class-1/latest/decoder'\n",
        "encoder_path   = './gdrive/My Drive/myVAE/modules/mnist/Bernoulli/class-1/latest/encoder'\n",
        "os.path.isdir(decoder_path)"
      ],
      "execution_count": 0,
      "outputs": [
        {
          "output_type": "execute_result",
          "data": {
            "text/plain": [
              "True"
            ]
          },
          "metadata": {
            "tags": []
          },
          "execution_count": 33
        }
      ]
    },
    {
      "cell_type": "code",
      "metadata": {
        "id": "MXWOKPQ2DorL",
        "colab_type": "code",
        "colab": {}
      },
      "source": [
        "#import tensorflow modules\n",
        "import tensorflow as tf\n",
        "import tensorflow_probability as tfp\n",
        "import tensorflow_hub as hub\n",
        "tfd = tfp.distributions"
      ],
      "execution_count": 0,
      "outputs": []
    },
    {
      "cell_type": "code",
      "metadata": {
        "id": "Q0KsDXO8E8Tv",
        "colab_type": "code",
        "colab": {}
      },
      "source": [
        "latent_dim = 2\n",
        "data_size  = 1\n",
        "data_dim   = 28*28\n",
        "label      = 4\n",
        "likelihood_type= 'Bernoulli'"
      ],
      "execution_count": 0,
      "outputs": []
    },
    {
      "cell_type": "code",
      "metadata": {
        "id": "in-JgcSTEZqf",
        "colab_type": "code",
        "colab": {}
      },
      "source": [
        "# these are the two functions that were used in the loss function (ELBO) to train the encoder and decoder\n",
        "\n",
        "def likelihood(z, sigma, encoder):\n",
        "  return tfd.Independent(tfd.Bernoulli(logits=decoder({'z':z},as_dict=True)['x']))\n",
        "\n",
        "\n",
        "    \n",
        "\n",
        "def approx_posterior(x,decoder):\n",
        "  mu, sig          = tf.split(encoder({'x':x},as_dict=True)['z'], 2, axis=-1)\n",
        "  sig              = tf.nn.softplus(sig) + 0.0001\n",
        "  approx_posterior = tfd.MultivariateNormalDiag(loc=mu, scale_diag=sig)\n",
        "  return approx_posterior"
      ],
      "execution_count": 0,
      "outputs": []
    },
    {
      "cell_type": "code",
      "metadata": {
        "id": "wZj2mAJ4GJPz",
        "colab_type": "code",
        "colab": {}
      },
      "source": [
        "# (build) the model\n",
        "tf.reset_default_graph()\n",
        "\n",
        "decoder = hub.Module(decoder_path, trainable=False)\n",
        "encoder = hub.Module(encoder_path, trainable=False)\n",
        "\n",
        "sigma = tf.placeholder_with_default(0.05,shape=[])\n",
        "\n",
        "x     = tf.placeholder(shape=[data_size,data_dim], dtype=tf.float32)\n",
        "\n",
        "\n",
        "s     = approx_posterior(x,encoder).mean()\n",
        "\n",
        "x_hat = likelihood(s,sigma,decoder).mean()\n",
        "\n"
      ],
      "execution_count": 0,
      "outputs": []
    },
    {
      "cell_type": "code",
      "metadata": {
        "id": "0tXFS6rBGuz4",
        "colab_type": "code",
        "colab": {}
      },
      "source": [
        "# initialize and run the model\n",
        "sess = tf.Session()\n",
        "sess.run(tf.global_variables_initializer())\n",
        "\n",
        "# restrict test data to label\n",
        "input_data = x_test[np.where(targets_test==label)][0].reshape((data_size,data_dim))\n",
        "\n",
        "recon_data = sess.run(x_hat, feed_dict={x:input_data})"
      ],
      "execution_count": 0,
      "outputs": []
    },
    {
      "cell_type": "code",
      "metadata": {
        "id": "M2J86XabIoWV",
        "colab_type": "code",
        "outputId": "2b4091da-5a50-45e9-d3d9-b0748f1110b0",
        "colab": {
          "base_uri": "https://localhost:8080/",
          "height": 234
        }
      },
      "source": [
        "#Let's have a look at the reconstructions\n",
        "figure()\n",
        "subplot(1,2,1)\n",
        "title('orig')\n",
        "imshow(input_data.reshape(28,28),cmap='gray')\n",
        "axis('off')\n",
        "subplot(1,2,2)\n",
        "title('recon')\n",
        "imshow(recon_data.reshape(28,28), cmap='gray')\n",
        "axis('off')\n",
        "show()\n",
        "\n",
        "\n",
        "print('rms-difference:', np.sqrt(np.mean((recon_data.flatten()-input_data)**2)))"
      ],
      "execution_count": 0,
      "outputs": [
        {
          "output_type": "display_data",
          "data": {
            "image/png": "[encoded data removed]",
            "text/plain": [
              "<Figure size 432x288 with 2 Axes>"
            ]
          },
          "metadata": {
            "tags": []
          }
        },
        {
          "output_type": "stream",
          "text": [
            "rms-difference: 0.08830805\n"
          ],
          "name": "stdout"
        }
      ]
    },
    {
      "cell_type": "code",
      "metadata": {
        "id": "RElV5fdxK3SY",
        "colab_type": "code",
        "colab": {}
      },
      "source": [
        ""
      ],
      "execution_count": 0,
      "outputs": []
    }
  ]
}