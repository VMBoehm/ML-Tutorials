{
 "cells": [
  {
   "cell_type": "markdown",
   "metadata": {
    "colab_type": "text",
    "id": "Jg1v7dnW4b_L"
   },
   "source": [
    "# A Simple fully connected network to fit a given function"
   ]
  },
  {
   "cell_type": "markdown",
   "metadata": {},
   "source": [
    "https://colab.research.google.com/drive/1BDkEwabD60Ho3RvILGct-cvIjKt7K526"
   ]
  },
  {
   "cell_type": "code",
   "execution_count": 0,
   "metadata": {
    "colab": {},
    "colab_type": "code",
    "id": "Eu3DAX3q5Y9o"
   },
   "outputs": [],
   "source": [
    "%matplotlib inline\n",
    "import numpy as np\n",
    "import tensorflow as tf\n",
    "import matplotlib\n",
    "import matplotlib.pyplot as plt"
   ]
  },
  {
   "cell_type": "code",
   "execution_count": 0,
   "metadata": {
    "colab": {},
    "colab_type": "code",
    "id": "8LBJOLpSZQqM"
   },
   "outputs": [],
   "source": [
    "# some matplotlib options\n",
    "matplotlib.rcParams['axes.edgecolor'] = 'black'\n",
    "matplotlib.rcParams['axes.linewidth'] = 1.0  \n",
    "matplotlib.rcParams['axes.grid'] = False\n",
    "matplotlib.rcParams['axes.titlesize'] = 'x-large'\n",
    "matplotlib.rcParams['axes.labelsize'] = 'x-large'\n",
    "matplotlib.rcParams['axes.labelweight'] = 'normal'\n",
    "matplotlib.rcParams['axes.labelcolor'] = 'black'\n",
    " \n",
    "matplotlib.rcParams['xtick.major.size'] = 7\n",
    "matplotlib.rcParams['xtick.labelsize'] = 'x-large'\n",
    "\n",
    " \n",
    "matplotlib.rcParams['ytick.major.size'] = 7\n",
    "matplotlib.rcParams['ytick.labelsize'] = 'x-large'"
   ]
  },
  {
   "cell_type": "code",
   "execution_count": 0,
   "metadata": {
    "colab": {},
    "colab_type": "code",
    "id": "F-IwHZC28wtg"
   },
   "outputs": [],
   "source": [
    "# define the function to fit and the range\n",
    "fitting_func = lambda x: np.sin(2*np.pi*x)\n",
    "x_min = 0.0\n",
    "x_max = 1.0"
   ]
  },
  {
   "cell_type": "code",
   "execution_count": 4,
   "metadata": {
    "colab": {
     "base_uri": "https://localhost:8080/",
     "height": 298
    },
    "colab_type": "code",
    "id": "HVleJaI6rAkq",
    "outputId": "38d36ee0-1d28-4255-fbdd-0f17d44a3bca"
   },
   "outputs": [
    {
     "data": {
      "text/plain": [
       "[<matplotlib.lines.Line2D at 0x7f20bb0ce6a0>]"
      ]
     },
     "execution_count": 4,
     "metadata": {
      "tags": []
     },
     "output_type": "execute_result"
    },
    {
     "data": {
      "image/png": "[encoded data removed]",
      "text/plain": [
       "<Figure size 432x288 with 1 Axes>"
      ]
     },
     "metadata": {
      "tags": []
     },
     "output_type": "display_data"
    }
   ],
   "source": [
    "# plot the function\n",
    "x_plot = np.linspace(x_min, x_max, 100)\n",
    "f_plot = fitting_func(x_plot)\n",
    "\n",
    "plt.plot(x_plot, f_plot)"
   ]
  },
  {
   "cell_type": "markdown",
   "metadata": {
    "colab_type": "text",
    "id": "lWdZZjDeJ_qB"
   },
   "source": [
    "# The Network"
   ]
  },
  {
   "cell_type": "code",
   "execution_count": 0,
   "metadata": {
    "colab": {},
    "colab_type": "code",
    "id": "fOnpN531KFZO"
   },
   "outputs": [],
   "source": [
    "# create train and test data\n",
    "N_train = 32\n",
    "\n",
    "np.random.seed(32)\n",
    "# training data is chosen randomly\n",
    "x_train = np.random.uniform(low=x_min, high=x_max, size=[N_train, 1])\n",
    "f_train = fitting_func(x_train)\n",
    "\n",
    "# test data is uniform\n",
    "x_test = x_plot.copy()\n",
    "f_test = f_plot.copy()"
   ]
  },
  {
   "cell_type": "code",
   "execution_count": 0,
   "metadata": {
    "colab": {},
    "colab_type": "code",
    "id": "tP6F6bJaZQqa"
   },
   "outputs": [],
   "source": [
    "# defualt params\n",
    "default_epochs = 500 # number of iterations through the training set\n",
    "default_batch_size = 8 # number of samples per optimization step\n",
    "default_activation = tf.nn.tanh # non-linear activation after each layer, try: tf.nn.relu, tf.nn.elu \n",
    "default_optimizer = tf.keras.optimizers.Adam(lr=1e-3) # the optimization algorithm"
   ]
  },
  {
   "cell_type": "code",
   "execution_count": 7,
   "metadata": {
    "colab": {
     "base_uri": "https://localhost:8080/",
     "height": 145
    },
    "colab_type": "code",
    "id": "r867o-zy6b1V",
    "outputId": "35c1d88e-3afa-4027-b139-0e735639d0a7"
   },
   "outputs": [
    {
     "name": "stderr",
     "output_type": "stream",
     "text": [
      "WARNING: Logging before flag parsing goes to stderr.\n",
      "W0805 10:54:42.967451 139779803826048 deprecation.py:506] From /usr/local/lib/python3.6/dist-packages/tensorflow/python/ops/init_ops.py:1251: calling VarianceScaling.__init__ (from tensorflow.python.ops.init_ops) with dtype is deprecated and will be removed in a future version.\n",
      "Instructions for updating:\n",
      "Call initializer instance with the dtype argument instead of passing it to the constructor\n"
     ]
    },
    {
     "name": "stdout",
     "output_type": "stream",
     "text": [
      "100/100 [==============================] - 0s 349us/sample - loss: 7.8017e-04\n",
      "Test Loss:  0.0007801738614216447\n"
     ]
    }
   ],
   "source": [
    "# build the model\n",
    "model = tf.keras.models.Sequential([\n",
    "  tf.keras.layers.Dense(32, activation=default_activation),\n",
    "  tf.keras.layers.Dense(32, activation=default_activation),\n",
    "  tf.keras.layers.Dense(32, activation=default_activation),\n",
    "  tf.keras.layers.Dense(32, activation=default_activation),\n",
    "  tf.keras.layers.Dense(1, activation=None)\n",
    "])\n",
    "model.compile(optimizer=default_optimizer, loss='mean_squared_error')\n",
    "\n",
    "# train\n",
    "model.fit(x_train, f_train, epochs=default_epochs, verbose=0, batch_size=default_batch_size)\n",
    "\n",
    "# evaluate\n",
    "test_loss = model.evaluate(x_test, f_test)\n",
    "test_pred = model.predict(x_test)\n",
    "print(\"Test Loss: \", test_loss)"
   ]
  },
  {
   "cell_type": "code",
   "execution_count": 8,
   "metadata": {
    "colab": {
     "base_uri": "https://localhost:8080/",
     "height": 341
    },
    "colab_type": "code",
    "id": "nHsUdGYE524c",
    "outputId": "fbf51a03-2f7f-4d6e-9aad-7f2173365a69"
   },
   "outputs": [
    {
     "name": "stdout",
     "output_type": "stream",
     "text": [
      "Model: \"sequential\"\n",
      "_________________________________________________________________\n",
      "Layer (type)                 Output Shape              Param #   \n",
      "=================================================================\n",
      "dense (Dense)                multiple                  64        \n",
      "_________________________________________________________________\n",
      "dense_1 (Dense)              multiple                  1056      \n",
      "_________________________________________________________________\n",
      "dense_2 (Dense)              multiple                  1056      \n",
      "_________________________________________________________________\n",
      "dense_3 (Dense)              multiple                  1056      \n",
      "_________________________________________________________________\n",
      "dense_4 (Dense)              multiple                  33        \n",
      "=================================================================\n",
      "Total params: 3,265\n",
      "Trainable params: 3,265\n",
      "Non-trainable params: 0\n",
      "_________________________________________________________________\n"
     ]
    }
   ],
   "source": [
    "model.summary()"
   ]
  },
  {
   "cell_type": "code",
   "execution_count": 9,
   "metadata": {
    "colab": {
     "base_uri": "https://localhost:8080/",
     "height": 321
    },
    "colab_type": "code",
    "id": "tl-MmtMiZQql",
    "outputId": "d5d36655-3783-441c-8baa-7f9054ba556f"
   },
   "outputs": [
    {
     "data": {
      "text/plain": [
       "Text(0, 0.5, 'Loss')"
      ]
     },
     "execution_count": 9,
     "metadata": {
      "tags": []
     },
     "output_type": "execute_result"
    },
    {
     "data": {
      "image/png": "[encoded data removed]",
      "text/plain": [
       "<Figure size 432x288 with 1 Axes>"
      ]
     },
     "metadata": {
      "tags": []
     },
     "output_type": "display_data"
    }
   ],
   "source": [
    "plt.plot(model.history.history['loss'])\n",
    "\n",
    "plt.xlabel(\"Epochs\", size=20)\n",
    "plt.ylabel(\"Loss\", size=20)"
   ]
  },
  {
   "cell_type": "code",
   "execution_count": 10,
   "metadata": {
    "colab": {
     "base_uri": "https://localhost:8080/",
     "height": 298
    },
    "colab_type": "code",
    "id": "5IJ_Da5jxX5Z",
    "outputId": "2ead7941-6f2a-4201-86ad-ceef0335b507"
   },
   "outputs": [
    {
     "data": {
      "text/plain": [
       "<matplotlib.legend.Legend at 0x7f20aa55d588>"
      ]
     },
     "execution_count": 10,
     "metadata": {
      "tags": []
     },
     "output_type": "execute_result"
    },
    {
     "data": {
      "image/png": "[encoded data removed]",
      "text/plain": [
       "<Figure size 432x288 with 1 Axes>"
      ]
     },
     "metadata": {
      "tags": []
     },
     "output_type": "display_data"
    }
   ],
   "source": [
    "# plot the function\n",
    "plt.plot(x_test, test_pred, 'r--', label=\"Nework prediction\")\n",
    "plt.plot(x_plot, f_plot, label=\"Ground Truth\")\n",
    "plt.legend()"
   ]
  },
  {
   "cell_type": "code",
   "execution_count": 11,
   "metadata": {
    "colab": {
     "base_uri": "https://localhost:8080/",
     "height": 298
    },
    "colab_type": "code",
    "id": "F3_wrrurZQqr",
    "outputId": "e18774e6-5f63-48cd-d586-d39df0e3891a"
   },
   "outputs": [
    {
     "data": {
      "text/plain": [
       "[<matplotlib.lines.Line2D at 0x7f20b88a54e0>]"
      ]
     },
     "execution_count": 11,
     "metadata": {
      "tags": []
     },
     "output_type": "execute_result"
    },
    {
     "data": {
      "image/png": "[encoded data removed]",
      "text/plain": [
       "<Figure size 432x288 with 1 Axes>"
      ]
     },
     "metadata": {
      "tags": []
     },
     "output_type": "display_data"
    }
   ],
   "source": [
    "# extrapolation\n",
    "test_pred = model.predict(x_test + 1)\n",
    "plt.plot(x_test + 1, test_pred, 'r--')\n",
    "plt.plot(x_plot + 1, fitting_func(x_plot + 1))\n"
   ]
  },
  {
   "cell_type": "markdown",
   "metadata": {
    "colab_type": "text",
    "id": "eKjFZ_gfIPJv"
   },
   "source": [
    "# Let's explore some hyper parameters\n",
    "\n"
   ]
  },
  {
   "cell_type": "markdown",
   "metadata": {
    "colab_type": "text",
    "id": "QeXNjevEZQqv"
   },
   "source": [
    "###  batch size"
   ]
  },
  {
   "cell_type": "code",
   "execution_count": 12,
   "metadata": {
    "colab": {
     "base_uri": "https://localhost:8080/",
     "height": 107
    },
    "colab_type": "code",
    "id": "r3MQ5EbmZQqw",
    "outputId": "54ac15ec-daee-4786-cbe5-1865888fc952"
   },
   "outputs": [
    {
     "name": "stdout",
     "output_type": "stream",
     "text": [
      "100/100 [==============================] - 0s 483us/sample - loss: 0.0012\n",
      "100/100 [==============================] - 0s 619us/sample - loss: 1.1369e-04\n",
      "100/100 [==============================] - 0s 812us/sample - loss: 3.6546e-04\n",
      "100/100 [==============================] - 0s 880us/sample - loss: 2.6492e-04\n",
      "100/100 [==============================] - 0s 1ms/sample - loss: 5.4102e-04\n"
     ]
    }
   ],
   "source": [
    "test_losses = []\n",
    "for batch_size in 2**np.arange(1,6):\n",
    "    # build the model\n",
    "    model = tf.keras.models.Sequential([\n",
    "            tf.keras.layers.Dense(32, activation=default_activation),\n",
    "            tf.keras.layers.Dense(32, activation=default_activation),\n",
    "            tf.keras.layers.Dense(32, activation=default_activation),\n",
    "            tf.keras.layers.Dense(32, activation=default_activation),\n",
    "            tf.keras.layers.Dense(1, activation=None)\n",
    "          ])\n",
    "    model.compile(optimizer=default_optimizer, loss='mean_squared_error')\n",
    "    model.fit(x_train, f_train, epochs=default_epochs, verbose=0, batch_size=batch_size)\n",
    "\n",
    "    test_losses.append(model.evaluate(x_test, f_test))"
   ]
  },
  {
   "cell_type": "code",
   "execution_count": 13,
   "metadata": {
    "colab": {
     "base_uri": "https://localhost:8080/",
     "height": 321
    },
    "colab_type": "code",
    "id": "8JkkixfdZQqz",
    "outputId": "e80a70a7-0b4e-4f1a-9dbf-a0f9d7084367"
   },
   "outputs": [
    {
     "data": {
      "text/plain": [
       "Text(0, 0.5, 'Loss')"
      ]
     },
     "execution_count": 13,
     "metadata": {
      "tags": []
     },
     "output_type": "execute_result"
    },
    {
     "data": {
      "image/png": "[encoded data removed]",
      "text/plain": [
       "<Figure size 432x288 with 1 Axes>"
      ]
     },
     "metadata": {
      "tags": []
     },
     "output_type": "display_data"
    }
   ],
   "source": [
    "plt.plot(2**np.arange(1,6), test_losses)\n",
    "plt.xlabel(\"Batch size\", size=20)\n",
    "plt.ylabel(\"Loss\", size=20)\n"
   ]
  },
  {
   "cell_type": "markdown",
   "metadata": {
    "colab_type": "text",
    "id": "GpglBdYfIIF-"
   },
   "source": [
    "### Number of Layers"
   ]
  },
  {
   "cell_type": "code",
   "execution_count": 14,
   "metadata": {
    "colab": {
     "base_uri": "https://localhost:8080/",
     "height": 143
    },
    "colab_type": "code",
    "id": "OtZa0VQCBhNQ",
    "outputId": "109ca7bc-4f08-4889-9015-dc891c041816"
   },
   "outputs": [
    {
     "name": "stdout",
     "output_type": "stream",
     "text": [
      "100/100 [==============================] - 0s 1ms/sample - loss: 0.1565\n",
      "100/100 [==============================] - 0s 1ms/sample - loss: 0.0073\n",
      "100/100 [==============================] - 0s 1ms/sample - loss: 7.9051e-04\n",
      "100/100 [==============================] - 0s 2ms/sample - loss: 1.3109e-04\n",
      "100/100 [==============================] - 0s 2ms/sample - loss: 3.1367e-04\n",
      "100/100 [==============================] - 0s 2ms/sample - loss: 3.4935e-04\n",
      "100/100 [==============================] - 0s 2ms/sample - loss: 5.1117e-04\n"
     ]
    }
   ],
   "source": [
    "test_losses = []\n",
    "for i in range(2, 9):\n",
    "    model = tf.keras.models.Sequential([\n",
    "                *[tf.keras.layers.Dense(32, activation=default_activation) for j in range(i)],\n",
    "                tf.keras.layers.Dense(1, activation=None)\n",
    "              ])\n",
    "    model.compile(optimizer='Adam', loss='mean_squared_error')\n",
    "    model.fit(x_train, f_train, epochs=default_epochs, verbose=0, batch_size=default_batch_size)\n",
    "\n",
    "    test_losses.append(model.evaluate(x_test, f_test))"
   ]
  },
  {
   "cell_type": "code",
   "execution_count": 15,
   "metadata": {
    "colab": {
     "base_uri": "https://localhost:8080/",
     "height": 321
    },
    "colab_type": "code",
    "id": "6-q34CxFZQq6",
    "outputId": "11298edf-5e4b-474e-e9e0-63e4d3e09309"
   },
   "outputs": [
    {
     "data": {
      "text/plain": [
       "Text(0, 0.5, 'Loss')"
      ]
     },
     "execution_count": 15,
     "metadata": {
      "tags": []
     },
     "output_type": "execute_result"
    },
    {
     "data": {
      "image/png": "[encoded data removed]",
      "text/plain": [
       "<Figure size 432x288 with 1 Axes>"
      ]
     },
     "metadata": {
      "tags": []
     },
     "output_type": "display_data"
    }
   ],
   "source": [
    "plt.plot(np.arange(2,9), test_losses)\n",
    "\n",
    "plt.xlabel(\"Number of Layers\", size=20)\n",
    "plt.ylabel(\"Loss\", size=20)"
   ]
  },
  {
   "cell_type": "markdown",
   "metadata": {
    "colab_type": "text",
    "id": "tSaAYqFOZQq9"
   },
   "source": [
    "### Optimization stepsize"
   ]
  },
  {
   "cell_type": "code",
   "execution_count": 16,
   "metadata": {
    "colab": {
     "base_uri": "https://localhost:8080/",
     "height": 143
    },
    "colab_type": "code",
    "id": "dUpfgAGRIfoy",
    "outputId": "32029219-9563-419e-a5ee-dd39796acd94"
   },
   "outputs": [
    {
     "name": "stdout",
     "output_type": "stream",
     "text": [
      "100/100 [==============================] - 0s 3ms/sample - loss: 0.6299\n",
      "100/100 [==============================] - 0s 3ms/sample - loss: 0.0962\n",
      "100/100 [==============================] - 0s 3ms/sample - loss: 0.0045\n",
      "100/100 [==============================] - 0s 3ms/sample - loss: 4.7721e-04\n",
      "100/100 [==============================] - 0s 3ms/sample - loss: 6.5931e-04\n",
      "100/100 [==============================] - 0s 3ms/sample - loss: 0.0204\n",
      "100/100 [==============================] - 0s 4ms/sample - loss: 0.2090\n"
     ]
    }
   ],
   "source": [
    "test_losses = []\n",
    "for lr in 10**np.arange(-1, -4.5, -0.5):\n",
    "    # build the model\n",
    "    model = tf.keras.models.Sequential([\n",
    "            tf.keras.layers.Dense(32, activation=default_activation),\n",
    "            tf.keras.layers.Dense(32, activation=default_activation),\n",
    "            tf.keras.layers.Dense(32, activation=default_activation),\n",
    "            tf.keras.layers.Dense(32, activation=default_activation),\n",
    "            tf.keras.layers.Dense(1, activation=None)\n",
    "            ])\n",
    "\n",
    "    model.compile(optimizer=tf.keras.optimizers.Adam(lr=lr), loss='mean_squared_error')\n",
    "    model.fit(x_train, f_train, epochs=default_epochs, verbose=0, batch_size=default_batch_size)\n",
    "\n",
    "    test_losses.append(model.evaluate(x_test, f_test))"
   ]
  },
  {
   "cell_type": "code",
   "execution_count": 17,
   "metadata": {
    "colab": {
     "base_uri": "https://localhost:8080/",
     "height": 325
    },
    "colab_type": "code",
    "id": "RligsysoZQrC",
    "outputId": "6f9959c9-881f-4f2b-8f4f-d2b77538e2de"
   },
   "outputs": [
    {
     "data": {
      "text/plain": [
       "Text(0, 0.5, 'Loss')"
      ]
     },
     "execution_count": 17,
     "metadata": {
      "tags": []
     },
     "output_type": "execute_result"
    },
    {
     "data": {
      "image/png": "[encoded data removed]",
      "text/plain": [
       "<Figure size 432x288 with 1 Axes>"
      ]
     },
     "metadata": {
      "tags": []
     },
     "output_type": "display_data"
    }
   ],
   "source": [
    "plt.semilogx(10**np.arange(-1, -4.5, -0.5), test_losses)\n",
    "\n",
    "plt.xlabel(\"Initial learning rate\", size=20)\n",
    "plt.ylabel(\"Loss\", size=20)"
   ]
  },
  {
   "cell_type": "code",
   "execution_count": 0,
   "metadata": {
    "colab": {},
    "colab_type": "code",
    "id": "le52UEsnaXcj"
   },
   "outputs": [],
   "source": []
  }
 ],
 "metadata": {
  "accelerator": "GPU",
  "colab": {
   "collapsed_sections": [],
   "name": "Regression_Simple.ipynb",
   "provenance": [],
   "version": "0.3.2"
  },
  "kernelspec": {
   "display_name": "Python 3",
   "language": "python",
   "name": "python3"
  },
  "language_info": {
   "codemirror_mode": {
    "name": "ipython",
    "version": 3
   },
   "file_extension": ".py",
   "mimetype": "text/x-python",
   "name": "python",
   "nbconvert_exporter": "python",
   "pygments_lexer": "ipython3",
   "version": "3.6.3"
  }
 },
 "nbformat": 4,
 "nbformat_minor": 1
}
