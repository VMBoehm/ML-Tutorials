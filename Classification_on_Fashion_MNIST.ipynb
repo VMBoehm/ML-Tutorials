{
  "nbformat": 4,
  "nbformat_minor": 0,
  "metadata": {
    "colab": {
      "name": "Classification_on_Fashion_MNIST.ipynb",
      "version": "0.3.2",
      "provenance": [],
      "include_colab_link": true
    },
    "kernelspec": {
      "name": "python3",
      "display_name": "Python 3"
    },
    "accelerator": "GPU"
  },
  "cells": [
    {
      "cell_type": "markdown",
      "metadata": {
        "id": "view-in-github",
        "colab_type": "text"
      },
      "source": [
        "<a href=\"https://colab.research.google.com/github/VMBoehm/ML-Tutorials/blob/master/Classification_on_Fashion_MNIST.ipynb\" target=\"_parent\"><img src=\"https://colab.research.google.com/assets/colab-badge.svg\" alt=\"Open In Colab\"/></a>"
      ]
    },
    {
      "cell_type": "markdown",
      "metadata": {
        "id": "Jg1v7dnW4b_L",
        "colab_type": "text"
      },
      "source": [
        "# **Guide to classification with convolutional neural networks on the Fashion Mnist dataset**"
      ]
    },
    {
      "cell_type": "markdown",
      "metadata": {
        "id": "G43FQbFDYePt",
        "colab_type": "text"
      },
      "source": [
        "Classification with MNIST\n",
        "    Copyright (C) 2019  Mohammadjavad Vakili <vakili@strw.leidenuniv.nl> (tweaks and comments: Vanessa Boehm)\n",
        "\n",
        "    This program is free software: you can redistribute it and/or modify\n",
        "    it under the terms of the GNU General Public License as published by\n",
        "    the Free Software Foundation, either version 3 of the License, or\n",
        "    (at your option) any later version.\n",
        "\n",
        "    This program is distributed in the hope that it will be useful,\n",
        "    but WITHOUT ANY WARRANTY; without even the implied warranty of\n",
        "    MERCHANTABILITY or FITNESS FOR A PARTICULAR PURPOSE.  See the\n",
        "    GNU General Public License for more details.\n",
        "\n",
        "    You should have received a copy of the GNU General Public License\n",
        "    along with this program.  If not, see <https://www.gnu.org/licenses/>."
      ]
    },
    {
      "cell_type": "markdown",
      "metadata": {
        "id": "9prYyucv5A0r",
        "colab_type": "text"
      },
      "source": [
        "https://github.com/zalandoresearch/fashion-mnist/\n",
        "Let's load the dataset using tensorflow"
      ]
    },
    {
      "cell_type": "code",
      "metadata": {
        "id": "Eu3DAX3q5Y9o",
        "colab_type": "code",
        "colab": {}
      },
      "source": [
        "import tensorflow as tf\n",
        "fmnist = tf.keras.datasets.fashion_mnist"
      ],
      "execution_count": 0,
      "outputs": []
    },
    {
      "cell_type": "code",
      "metadata": {
        "id": "F-IwHZC28wtg",
        "colab_type": "code",
        "outputId": "ce31aab9-cc07-4093-f162-9117dc0f1fc8",
        "colab": {
          "base_uri": "https://localhost:8080/",
          "height": 160
        }
      },
      "source": [
        "\n",
        "import tensorflow as tf\n",
        "mnist = tf.keras.datasets.fashion_mnist\n",
        "(training_images, training_labels), (test_images, test_labels) = fmnist.load_data()\n",
        "training_images=training_images / 255.0\n",
        "test_images=test_images / 255.0"
      ],
      "execution_count": 0,
      "outputs": [
        {
          "output_type": "stream",
          "text": [
            "Downloading data from https://storage.googleapis.com/tensorflow/tf-keras-datasets/train-labels-idx1-ubyte.gz\n",
            "32768/29515 [=================================] - 0s 0us/step\n",
            "Downloading data from https://storage.googleapis.com/tensorflow/tf-keras-datasets/train-images-idx3-ubyte.gz\n",
            "26427392/26421880 [==============================] - 0s 0us/step\n",
            "Downloading data from https://storage.googleapis.com/tensorflow/tf-keras-datasets/t10k-labels-idx1-ubyte.gz\n",
            "8192/5148 [===============================================] - 0s 0us/step\n",
            "Downloading data from https://storage.googleapis.com/tensorflow/tf-keras-datasets/t10k-images-idx3-ubyte.gz\n",
            "4423680/4422102 [==============================] - 0s 0us/step\n"
          ],
          "name": "stdout"
        }
      ]
    },
    {
      "cell_type": "markdown",
      "metadata": {
        "id": "lWdZZjDeJ_qB",
        "colab_type": "text"
      },
      "source": [
        "# Let's look at some of the images:"
      ]
    },
    {
      "cell_type": "code",
      "metadata": {
        "id": "fOnpN531KFZO",
        "colab_type": "code",
        "outputId": "9e8211c3-b32d-4c8e-9575-86264ba26439",
        "colab": {
          "base_uri": "https://localhost:8080/",
          "height": 607
        }
      },
      "source": [
        "import matplotlib.pyplot as plt\n",
        "from matplotlib import gridspec\n",
        "fig = plt.figure(1, figsize=(10,10))\n",
        "gs = gridspec.GridSpec(2,2)\n",
        "plt.gray()\n",
        "plt.grid(False)\n",
        "\n",
        "indices = [3250, 32, 1000, 54]\n",
        "\n",
        "cnt = 0\n",
        "for i in range(2):\n",
        "    for j in range(2):   \n",
        "        ax = plt.subplot(gs[i,j])\n",
        "        ax.imshow(training_images[indices[cnt]])\n",
        "        ax.set_title(\"label = \"+str(training_labels[indices[cnt]]))\n",
        "        cnt += 1"
      ],
      "execution_count": 0,
      "outputs": [
        {
          "output_type": "display_data",
          "data": {
            "image/png": "[encoded data removed]",
            "text/plain": [
              "<Figure size 720x720 with 4 Axes>"
            ]
          },
          "metadata": {
            "tags": []
          }
        }
      ]
    },
    {
      "cell_type": "markdown",
      "metadata": {
        "id": "-6g0wSRHMlLi",
        "colab_type": "text"
      },
      "source": [
        "# Now we can build a model based on standard fully connected neural nets to learn the mapping between fashion labels and the images \n"
      ]
    },
    {
      "cell_type": "code",
      "metadata": {
        "id": "7RO9iObpIZFl",
        "colab_type": "code",
        "outputId": "089bfd90-cff8-404a-dc72-f43904e87ac5",
        "colab": {
          "base_uri": "https://localhost:8080/",
          "height": 502
        }
      },
      "source": [
        "#simple fully connected network\n",
        "model = tf.keras.models.Sequential([\n",
        "  tf.keras.layers.Flatten(),\n",
        "  tf.keras.layers.Dense(256, activation=tf.nn.relu),\n",
        "  tf.keras.layers.Dense(10, activation=tf.nn.softmax)\n",
        "])\n",
        "\n",
        "# compile and train \n",
        "# categorical cross entropy: https://cwiki.apache.org/confluence/display/MXNET/Multi-hot+Sparse+Categorical+Cross-entropy\n",
        "# available loss functions https://keras.io/losses/\n",
        "# optimizers: https://arxiv.org/pdf/1609.04747.pdf\n",
        "model.compile(optimizer='Adam', loss='sparse_categorical_crossentropy', metrics=['accuracy'])\n",
        "model.fit(training_images, training_labels, epochs=4)\n",
        "\n",
        "# inspect the model\n",
        "model.summary()\n"
      ],
      "execution_count": 0,
      "outputs": [
        {
          "output_type": "stream",
          "text": [
            "WARNING: Logging before flag parsing goes to stderr.\n",
            "W0805 10:30:25.978029 140015027443584 deprecation.py:506] From /usr/local/lib/python3.6/dist-packages/tensorflow/python/ops/init_ops.py:1251: calling VarianceScaling.__init__ (from tensorflow.python.ops.init_ops) with dtype is deprecated and will be removed in a future version.\n",
            "Instructions for updating:\n",
            "Call initializer instance with the dtype argument instead of passing it to the constructor\n"
          ],
          "name": "stderr"
        },
        {
          "output_type": "stream",
          "text": [
            "Epoch 1/4\n",
            "60000/60000 [==============================] - 6s 104us/sample - loss: 0.4815 - acc: 0.8298\n",
            "Epoch 2/4\n",
            "60000/60000 [==============================] - 6s 92us/sample - loss: 0.3633 - acc: 0.8687\n",
            "Epoch 3/4\n",
            "60000/60000 [==============================] - 6s 92us/sample - loss: 0.3277 - acc: 0.8801\n",
            "Epoch 4/4\n",
            "60000/60000 [==============================] - 5s 91us/sample - loss: 0.3020 - acc: 0.8889\n",
            "Model: \"sequential\"\n",
            "_________________________________________________________________\n",
            "Layer (type)                 Output Shape              Param #   \n",
            "=================================================================\n",
            "flatten (Flatten)            multiple                  0         \n",
            "_________________________________________________________________\n",
            "dense (Dense)                multiple                  200960    \n",
            "_________________________________________________________________\n",
            "dense_1 (Dense)              multiple                  2570      \n",
            "=================================================================\n",
            "Total params: 203,530\n",
            "Trainable params: 203,530\n",
            "Non-trainable params: 0\n",
            "_________________________________________________________________\n"
          ],
          "name": "stdout"
        }
      ]
    },
    {
      "cell_type": "code",
      "metadata": {
        "id": "pAl2boLLOHNq",
        "colab_type": "code",
        "outputId": "deecc57a-57cc-4b91-f492-dc236e75db02",
        "colab": {
          "base_uri": "https://localhost:8080/",
          "height": 35
        }
      },
      "source": [
        "# how does it work on data it has never seen before\n",
        "test_loss = model.evaluate(test_images, test_labels)"
      ],
      "execution_count": 0,
      "outputs": [
        {
          "output_type": "stream",
          "text": [
            "10000/10000 [==============================] - 1s 62us/sample - loss: 0.3370 - acc: 0.8780\n"
          ],
          "name": "stdout"
        }
      ]
    },
    {
      "cell_type": "code",
      "metadata": {
        "id": "kXFMJATwN8nX",
        "colab_type": "code",
        "outputId": "9b349ff6-9da7-41b5-c56d-313a380432ec",
        "colab": {
          "base_uri": "https://localhost:8080/",
          "height": 410
        }
      },
      "source": [
        "#simple fully connected network\n",
        "model = tf.keras.models.Sequential([\n",
        "  tf.keras.layers.Flatten(),\n",
        "  tf.keras.layers.Dense(256, activation=tf.nn.relu),\n",
        "  tf.keras.layers.Dense(10, activation=tf.nn.softmax)\n",
        "])\n",
        "\n",
        "# compile and train, this time with a different optimizer, Stochastic Gradient Descent (list of available optimizers: https://keras.io/optimizers/)\n",
        "model.compile(optimizer='SGD', loss='sparse_categorical_crossentropy', metrics=['accuracy'])\n",
        "model.fit(training_images, training_labels, epochs=4)\n",
        "\n",
        "# inspect the model\n",
        "model.summary()"
      ],
      "execution_count": 0,
      "outputs": [
        {
          "output_type": "stream",
          "text": [
            "Epoch 1/4\n",
            "60000/60000 [==============================] - 5s 82us/sample - loss: 0.7200 - acc: 0.7687\n",
            "Epoch 2/4\n",
            "60000/60000 [==============================] - 5s 81us/sample - loss: 0.5054 - acc: 0.8286\n",
            "Epoch 3/4\n",
            "60000/60000 [==============================] - 5s 82us/sample - loss: 0.4618 - acc: 0.8408\n",
            "Epoch 4/4\n",
            "60000/60000 [==============================] - 5s 81us/sample - loss: 0.4380 - acc: 0.8481\n",
            "Model: \"sequential_1\"\n",
            "_________________________________________________________________\n",
            "Layer (type)                 Output Shape              Param #   \n",
            "=================================================================\n",
            "flatten_1 (Flatten)          multiple                  0         \n",
            "_________________________________________________________________\n",
            "dense_2 (Dense)              multiple                  200960    \n",
            "_________________________________________________________________\n",
            "dense_3 (Dense)              multiple                  2570      \n",
            "=================================================================\n",
            "Total params: 203,530\n",
            "Trainable params: 203,530\n",
            "Non-trainable params: 0\n",
            "_________________________________________________________________\n"
          ],
          "name": "stdout"
        }
      ]
    },
    {
      "cell_type": "code",
      "metadata": {
        "id": "S-yyNnq3I8JQ",
        "colab_type": "code",
        "outputId": "0b6321c5-9100-46ea-8c04-ff78ba9530c6",
        "colab": {
          "base_uri": "https://localhost:8080/",
          "height": 35
        }
      },
      "source": [
        "# Adam is superior to SGD!\n",
        "test_loss = model.evaluate(test_images, test_labels)"
      ],
      "execution_count": 0,
      "outputs": [
        {
          "output_type": "stream",
          "text": [
            "10000/10000 [==============================] - 1s 63us/sample - loss: 0.4722 - acc: 0.8319\n"
          ],
          "name": "stdout"
        }
      ]
    },
    {
      "cell_type": "code",
      "metadata": {
        "id": "r867o-zy6b1V",
        "colab_type": "code",
        "outputId": "c2ba105c-c69b-4cb3-d514-b732825cf71c",
        "colab": {
          "base_uri": "https://localhost:8080/",
          "height": 178
        }
      },
      "source": [
        "#now let's increase the comeplexity of the model\n",
        "model = tf.keras.models.Sequential([\n",
        "  tf.keras.layers.Flatten(),\n",
        "  tf.keras.layers.Dense(512, activation=tf.nn.relu),\n",
        "  tf.keras.layers.Dense(256, activation=tf.nn.relu),\n",
        "  tf.keras.layers.Dense(128, activation=tf.nn.relu),\n",
        "  tf.keras.layers.Dense(10, activation=tf.nn.softmax)\n",
        "])\n",
        "model.compile(optimizer='Adam', loss='sparse_categorical_crossentropy', metrics=['accuracy'])\n",
        "model.fit(training_images, training_labels, epochs=4)\n",
        "\n",
        "#and we can see that we are already overfitting!\n",
        "test_loss = model.evaluate(test_images, test_labels)"
      ],
      "execution_count": 0,
      "outputs": [
        {
          "output_type": "stream",
          "text": [
            "Epoch 1/4\n",
            "60000/60000 [==============================] - 7s 122us/sample - loss: 0.4800 - acc: 0.8255\n",
            "Epoch 2/4\n",
            "60000/60000 [==============================] - 7s 121us/sample - loss: 0.3607 - acc: 0.8674\n",
            "Epoch 3/4\n",
            "60000/60000 [==============================] - 7s 123us/sample - loss: 0.3289 - acc: 0.8783\n",
            "Epoch 4/4\n",
            "60000/60000 [==============================] - 7s 122us/sample - loss: 0.3011 - acc: 0.8882\n",
            "10000/10000 [==============================] - 1s 73us/sample - loss: 0.3676 - acc: 0.8683\n"
          ],
          "name": "stdout"
        }
      ]
    },
    {
      "cell_type": "markdown",
      "metadata": {
        "id": "eKjFZ_gfIPJv",
        "colab_type": "text"
      },
      "source": [
        "# Can we improve the model with convolutional neural nets?\n",
        "\n"
      ]
    },
    {
      "cell_type": "markdown",
      "metadata": {
        "id": "GpglBdYfIIF-",
        "colab_type": "text"
      },
      "source": [
        "In order to apply convolutions to the test and training images, we need to reshape the arrays so that the input of the CNN is one data block."
      ]
    },
    {
      "cell_type": "code",
      "metadata": {
        "id": "OtZa0VQCBhNQ",
        "colab_type": "code",
        "colab": {}
      },
      "source": [
        "import numpy as np\n",
        "# we add an axis for the channel (for RGB this would be 3 numbers)\n",
        "training_images=training_images[:,:,:,np.newaxis]\n",
        "test_images = test_images[:,:,:,np.newaxis]"
      ],
      "execution_count": 0,
      "outputs": []
    },
    {
      "cell_type": "code",
      "metadata": {
        "id": "dUpfgAGRIfoy",
        "colab_type": "code",
        "outputId": "8a512ebc-c85a-439a-e4d3-c833fae44c46",
        "colab": {
          "base_uri": "https://localhost:8080/",
          "height": 35
        }
      },
      "source": [
        "training_images.shape, test_images.shape"
      ],
      "execution_count": 0,
      "outputs": [
        {
          "output_type": "execute_result",
          "data": {
            "text/plain": [
              "((60000, 28, 28, 1), (10000, 28, 28, 1))"
            ]
          },
          "metadata": {
            "tags": []
          },
          "execution_count": 10
        }
      ]
    },
    {
      "cell_type": "code",
      "metadata": {
        "id": "6W9EZKbeBmvA",
        "colab_type": "code",
        "outputId": "b8e752f5-1908-42e5-fe78-ed15210853a9",
        "colab": {
          "base_uri": "https://localhost:8080/",
          "height": 553
        }
      },
      "source": [
        "model = tf.keras.models.Sequential([\n",
        "  # https://keras.io/layers/convolutional/; a convolutional layer is defined by the number of filters -> that's the output depth, the size of the filters, here (3,3), the stride (default=(1,1)) and the padding (default is 'valid'= no padding)\n",
        "  tf.keras.layers.Conv2D(32, (3,3), activation='relu', input_shape=(28, 28, 1)),\n",
        "  # max pooling reduces the size by only keeping the maximum of (n,n) pixels\n",
        "  tf.keras.layers.MaxPooling2D(2, 2),\n",
        "  tf.keras.layers.Conv2D(32, (3,3), activation='relu'),\n",
        "  tf.keras.layers.MaxPooling2D(2,2),\n",
        "  tf.keras.layers.Flatten(),\n",
        "  # let's everything talk to each other\n",
        "  tf.keras.layers.Dense(128, activation='relu'),\n",
        "  tf.keras.layers.Dense(10, activation='softmax')\n",
        "])\n",
        "model.compile(optimizer='adam', loss='sparse_categorical_crossentropy', metrics=['accuracy'])\n",
        "model.fit(training_images, training_labels, epochs=4)\n",
        "model.summary()\n"
      ],
      "execution_count": 0,
      "outputs": [
        {
          "output_type": "stream",
          "text": [
            "Epoch 1/4\n",
            "60000/60000 [==============================] - 12s 195us/sample - loss: 0.4615 - acc: 0.8337\n",
            "Epoch 2/4\n",
            "60000/60000 [==============================] - 10s 160us/sample - loss: 0.3155 - acc: 0.8841\n",
            "Epoch 3/4\n",
            "60000/60000 [==============================] - 10s 161us/sample - loss: 0.2715 - acc: 0.8992\n",
            "Epoch 4/4\n",
            "60000/60000 [==============================] - 10s 161us/sample - loss: 0.2414 - acc: 0.9104\n",
            "Model: \"sequential_3\"\n",
            "_________________________________________________________________\n",
            "Layer (type)                 Output Shape              Param #   \n",
            "=================================================================\n",
            "conv2d (Conv2D)              (None, 26, 26, 32)        320       \n",
            "_________________________________________________________________\n",
            "max_pooling2d (MaxPooling2D) (None, 13, 13, 32)        0         \n",
            "_________________________________________________________________\n",
            "conv2d_1 (Conv2D)            (None, 11, 11, 32)        9248      \n",
            "_________________________________________________________________\n",
            "max_pooling2d_1 (MaxPooling2 (None, 5, 5, 32)          0         \n",
            "_________________________________________________________________\n",
            "flatten_3 (Flatten)          (None, 800)               0         \n",
            "_________________________________________________________________\n",
            "dense_8 (Dense)              (None, 128)               102528    \n",
            "_________________________________________________________________\n",
            "dense_9 (Dense)              (None, 10)                1290      \n",
            "=================================================================\n",
            "Total params: 113,386\n",
            "Trainable params: 113,386\n",
            "Non-trainable params: 0\n",
            "_________________________________________________________________\n"
          ],
          "name": "stdout"
        }
      ]
    },
    {
      "cell_type": "code",
      "metadata": {
        "id": "G9QhPi6sJp4I",
        "colab_type": "code",
        "outputId": "04327ba2-c7c5-48d6-fc02-a93ed77aae38",
        "colab": {
          "base_uri": "https://localhost:8080/",
          "height": 35
        }
      },
      "source": [
        "#slight overfitting?\n",
        "test_loss = model.evaluate(test_images, test_labels)"
      ],
      "execution_count": 0,
      "outputs": [
        {
          "output_type": "stream",
          "text": [
            "10000/10000 [==============================] - 1s 76us/sample - loss: 0.2871 - acc: 0.8954\n"
          ],
          "name": "stdout"
        }
      ]
    },
    {
      "cell_type": "code",
      "metadata": {
        "id": "bTLUe5y0Rwgf",
        "colab_type": "code",
        "outputId": "290e42ba-e66b-4992-b0df-2204c7c3bbf4",
        "colab": {
          "base_uri": "https://localhost:8080/",
          "height": 553
        }
      },
      "source": [
        "model = tf.keras.models.Sequential([\n",
        "  # https://keras.io/layers/convolutional/; a convolutional layer is defined by the number of filters -> that's the output depth, the size of the filters, here (3,3), the stride (default=(1,1)) and the padding (default is 'valid'= no padding)\n",
        "  tf.keras.layers.Conv2D(16, (3,3), activation='relu', input_shape=(28, 28, 1)),\n",
        "  # max pooling reduces the size by only keeping the maximum of (n,n) pixels\n",
        "  tf.keras.layers.MaxPooling2D(2, 2),\n",
        "  tf.keras.layers.Conv2D(16, (2,2), activation='relu'),\n",
        "  tf.keras.layers.MaxPooling2D(2,2),\n",
        "  tf.keras.layers.Flatten(),\n",
        "  # let's everything talk to each other\n",
        "  tf.keras.layers.Dense(128, activation='relu'),\n",
        "  tf.keras.layers.Dense(10, activation='softmax')\n",
        "])\n",
        "model.compile(optimizer='adam', loss='sparse_categorical_crossentropy', metrics=['accuracy'])\n",
        "model.fit(training_images, training_labels, epochs=4)\n",
        "model.summary()"
      ],
      "execution_count": 0,
      "outputs": [
        {
          "output_type": "stream",
          "text": [
            "Epoch 1/4\n",
            "60000/60000 [==============================] - 9s 150us/sample - loss: 0.4926 - acc: 0.8221\n",
            "Epoch 2/4\n",
            "60000/60000 [==============================] - 9s 149us/sample - loss: 0.3413 - acc: 0.8764\n",
            "Epoch 3/4\n",
            "60000/60000 [==============================] - 9s 149us/sample - loss: 0.2961 - acc: 0.8924\n",
            "Epoch 4/4\n",
            "60000/60000 [==============================] - 9s 148us/sample - loss: 0.2666 - acc: 0.9027\n",
            "Model: \"sequential_8\"\n",
            "_________________________________________________________________\n",
            "Layer (type)                 Output Shape              Param #   \n",
            "=================================================================\n",
            "conv2d_10 (Conv2D)           (None, 26, 26, 16)        160       \n",
            "_________________________________________________________________\n",
            "max_pooling2d_10 (MaxPooling (None, 13, 13, 16)        0         \n",
            "_________________________________________________________________\n",
            "conv2d_11 (Conv2D)           (None, 12, 12, 16)        1040      \n",
            "_________________________________________________________________\n",
            "max_pooling2d_11 (MaxPooling (None, 6, 6, 16)          0         \n",
            "_________________________________________________________________\n",
            "flatten_8 (Flatten)          (None, 576)               0         \n",
            "_________________________________________________________________\n",
            "dense_18 (Dense)             (None, 128)               73856     \n",
            "_________________________________________________________________\n",
            "dense_19 (Dense)             (None, 10)                1290      \n",
            "=================================================================\n",
            "Total params: 76,346\n",
            "Trainable params: 76,346\n",
            "Non-trainable params: 0\n",
            "_________________________________________________________________\n"
          ],
          "name": "stdout"
        }
      ]
    },
    {
      "cell_type": "code",
      "metadata": {
        "id": "qCJtRIgBSATk",
        "colab_type": "code",
        "outputId": "9b7fb293-d619-48cf-9fcd-dfd49a8d160b",
        "colab": {
          "base_uri": "https://localhost:8080/",
          "height": 35
        }
      },
      "source": [
        "#possibly less overfitting\n",
        "test_loss = model.evaluate(test_images, test_labels)"
      ],
      "execution_count": 0,
      "outputs": [
        {
          "output_type": "stream",
          "text": [
            "10000/10000 [==============================] - 1s 85us/sample - loss: 0.2849 - acc: 0.8980\n"
          ],
          "name": "stdout"
        }
      ]
    },
    {
      "cell_type": "markdown",
      "metadata": {
        "id": "gxskB7CCOAci",
        "colab_type": "text"
      },
      "source": [
        "# What do convolutions do?"
      ]
    },
    {
      "cell_type": "code",
      "metadata": {
        "id": "XkFhylb3Me9O",
        "colab_type": "code",
        "outputId": "92259187-3fa6-4a4d-c704-b20685498844",
        "colab": {
          "base_uri": "https://localhost:8080/",
          "height": 265
        }
      },
      "source": [
        "image = test_images[10,:,:,0]\n",
        "\n",
        "import matplotlib.pyplot as plt\n",
        "plt.grid(False)\n",
        "plt.gray()\n",
        "plt.axis('off')\n",
        "plt.imshow(image)\n",
        "plt.show()"
      ],
      "execution_count": 0,
      "outputs": [
        {
          "output_type": "display_data",
          "data": {
            "image/png": "[encoded data removed]",
            "text/plain": [
              "<Figure size 432x288 with 1 Axes>"
            ]
          },
          "metadata": {
            "tags": []
          }
        }
      ]
    },
    {
      "cell_type": "code",
      "metadata": {
        "id": "R9BwH-T-MjN6",
        "colab_type": "code",
        "colab": {}
      },
      "source": [
        "image_transformed = np.copy(image)\n",
        "size_x = image_transformed.shape[0]\n",
        "size_y = image_transformed.shape[1]\n"
      ],
      "execution_count": 0,
      "outputs": []
    },
    {
      "cell_type": "markdown",
      "metadata": {
        "id": "Oi-aTOGNO6PK",
        "colab_type": "text"
      },
      "source": [
        "Let's experiment with a few convlution kernels"
      ]
    },
    {
      "cell_type": "code",
      "metadata": {
        "id": "ZWSR_Wl9MoWa",
        "colab_type": "code",
        "colab": {}
      },
      "source": [
        "#filter = [ [-1, -2, -1], [0, 0, 0], [1, 2, 1]]\n",
        "#filter = [ [-1, 0, 1], [-2, 0, 2], [-1, 0, 1]]\n",
        "filter = [ [0, 1, 0], [1, -4, 1], [0, 1, 0]]"
      ],
      "execution_count": 0,
      "outputs": []
    },
    {
      "cell_type": "code",
      "metadata": {
        "id": "OOHNVdrxMsAD",
        "colab_type": "code",
        "colab": {}
      },
      "source": [
        "for x in range(1,size_x-1):\n",
        "  for y in range(1,size_y-1):\n",
        "      convolution = 0.0\n",
        "      convolution = convolution + (image[x - 1, y-1] * filter[0][0])\n",
        "      convolution = convolution + (image[x, y-1] * filter[0][1])\n",
        "      convolution = convolution + (image[x + 1, y-1] * filter[0][2])\n",
        "      convolution = convolution + (image[x-1, y] * filter[1][0])\n",
        "      convolution = convolution + (image[x, y] * filter[1][1])\n",
        "      convolution = convolution + (image[x+1, y] * filter[1][2])\n",
        "      convolution = convolution + (image[x-1, y+1] * filter[2][0])\n",
        "      convolution = convolution + (image[x, y+1] * filter[2][1])\n",
        "      convolution = convolution + (image[x+1, y+1] * filter[2][2])\n",
        "      convolution = convolution\n",
        "      if(convolution<0):\n",
        "        convolution=0\n",
        "      if(convolution>255):\n",
        "        convolution=255\n",
        "      image_transformed[x, y] = convolution\n"
      ],
      "execution_count": 0,
      "outputs": []
    },
    {
      "cell_type": "code",
      "metadata": {
        "id": "dEWERhndM1_o",
        "colab_type": "code",
        "outputId": "03fb12de-88ea-4002-d9c9-a1d613474b19",
        "colab": {
          "base_uri": "https://localhost:8080/",
          "height": 336
        }
      },
      "source": [
        "fig = plt.figure(1, figsize=(10,10))\n",
        "gs = gridspec.GridSpec(1,2)\n",
        "plt.gray()\n",
        "plt.grid(False)\n",
        "ax = plt.subplot(gs[0,0])\n",
        "ax.imshow(image)\n",
        "ax.axis('off')\n",
        "ax.set_title(\"original image\")\n",
        "ax = plt.subplot(gs[0,1])\n",
        "ax.imshow(image_transformed)\n",
        "ax.set_title(\"convolved image\")\n",
        "ax.axis('off')"
      ],
      "execution_count": 0,
      "outputs": [
        {
          "output_type": "execute_result",
          "data": {
            "text/plain": [
              "(-0.5, 27.5, 27.5, -0.5)"
            ]
          },
          "metadata": {
            "tags": []
          },
          "execution_count": 19
        },
        {
          "output_type": "display_data",
          "data": {
            "image/png": "[encoded data removed]",
            "text/plain": [
              "<Figure size 720x720 with 2 Axes>"
            ]
          },
          "metadata": {
            "tags": []
          }
        }
      ]
    }
  ]
}